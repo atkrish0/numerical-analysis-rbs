{
 "cells": [
  {
   "cell_type": "markdown",
   "metadata": {},
   "source": [
    "# Library imports"
   ]
  },
  {
   "cell_type": "code",
   "execution_count": 2,
   "metadata": {},
   "outputs": [],
   "source": [
    "import numpy as np\n",
    "import matplotlib.pyplot as plt\n",
    "import yfinance as yf\n",
    "import pandas as pd\n",
    "\n",
    "from utility import cubic_spline_interpolation\n",
    "from utility import evaluate_spline"
   ]
  },
  {
   "cell_type": "markdown",
   "metadata": {},
   "source": [
    "# Q8"
   ]
  },
  {
   "cell_type": "code",
   "execution_count": 9,
   "metadata": {},
   "outputs": [
    {
     "name": "stderr",
     "output_type": "stream",
     "text": [
      "[*********************100%***********************]  1 of 1 completed\n"
     ]
    },
    {
     "data": {
      "text/html": [
       "<div>\n",
       "<style scoped>\n",
       "    .dataframe tbody tr th:only-of-type {\n",
       "        vertical-align: middle;\n",
       "    }\n",
       "\n",
       "    .dataframe tbody tr th {\n",
       "        vertical-align: top;\n",
       "    }\n",
       "\n",
       "    .dataframe thead tr th {\n",
       "        text-align: left;\n",
       "    }\n",
       "</style>\n",
       "<table border=\"1\" class=\"dataframe\">\n",
       "  <thead>\n",
       "    <tr>\n",
       "      <th>Price</th>\n",
       "      <th>Adj Close</th>\n",
       "      <th>Close</th>\n",
       "      <th>High</th>\n",
       "      <th>Low</th>\n",
       "      <th>Open</th>\n",
       "      <th>Volume</th>\n",
       "    </tr>\n",
       "    <tr>\n",
       "      <th>Ticker</th>\n",
       "      <th>AAPL</th>\n",
       "      <th>AAPL</th>\n",
       "      <th>AAPL</th>\n",
       "      <th>AAPL</th>\n",
       "      <th>AAPL</th>\n",
       "      <th>AAPL</th>\n",
       "    </tr>\n",
       "  </thead>\n",
       "  <tbody>\n",
       "    <tr>\n",
       "      <th>count</th>\n",
       "      <td>13.000000</td>\n",
       "      <td>13.000000</td>\n",
       "      <td>13.000000</td>\n",
       "      <td>13.000000</td>\n",
       "      <td>13.000000</td>\n",
       "      <td>1.300000e+01</td>\n",
       "    </tr>\n",
       "    <tr>\n",
       "      <th>mean</th>\n",
       "      <td>114.381690</td>\n",
       "      <td>117.173844</td>\n",
       "      <td>121.001538</td>\n",
       "      <td>114.816154</td>\n",
       "      <td>119.374616</td>\n",
       "      <td>2.044848e+08</td>\n",
       "    </tr>\n",
       "    <tr>\n",
       "      <th>std</th>\n",
       "      <td>7.788333</td>\n",
       "      <td>7.978458</td>\n",
       "      <td>8.285664</td>\n",
       "      <td>7.089132</td>\n",
       "      <td>8.365989</td>\n",
       "      <td>5.707355e+07</td>\n",
       "    </tr>\n",
       "    <tr>\n",
       "      <th>min</th>\n",
       "      <td>104.294090</td>\n",
       "      <td>106.839996</td>\n",
       "      <td>110.879997</td>\n",
       "      <td>106.089996</td>\n",
       "      <td>109.720001</td>\n",
       "      <td>1.401501e+08</td>\n",
       "    </tr>\n",
       "    <tr>\n",
       "      <th>25%</th>\n",
       "      <td>109.458031</td>\n",
       "      <td>112.129997</td>\n",
       "      <td>115.930000</td>\n",
       "      <td>110.889999</td>\n",
       "      <td>114.570000</td>\n",
       "      <td>1.769405e+08</td>\n",
       "    </tr>\n",
       "    <tr>\n",
       "      <th>50%</th>\n",
       "      <td>112.611076</td>\n",
       "      <td>115.360001</td>\n",
       "      <td>118.989998</td>\n",
       "      <td>112.680000</td>\n",
       "      <td>117.260002</td>\n",
       "      <td>1.822744e+08</td>\n",
       "    </tr>\n",
       "    <tr>\n",
       "      <th>75%</th>\n",
       "      <td>117.999535</td>\n",
       "      <td>120.879997</td>\n",
       "      <td>123.699997</td>\n",
       "      <td>115.260002</td>\n",
       "      <td>120.360001</td>\n",
       "      <td>2.313666e+08</td>\n",
       "    </tr>\n",
       "    <tr>\n",
       "      <th>max</th>\n",
       "      <td>130.982590</td>\n",
       "      <td>134.179993</td>\n",
       "      <td>137.979996</td>\n",
       "      <td>130.529999</td>\n",
       "      <td>137.589996</td>\n",
       "      <td>3.326072e+08</td>\n",
       "    </tr>\n",
       "  </tbody>\n",
       "</table>\n",
       "</div>"
      ],
      "text/plain": [
       "Price    Adj Close       Close        High         Low        Open  \\\n",
       "Ticker        AAPL        AAPL        AAPL        AAPL        AAPL   \n",
       "count    13.000000   13.000000   13.000000   13.000000   13.000000   \n",
       "mean    114.381690  117.173844  121.001538  114.816154  119.374616   \n",
       "std       7.788333    7.978458    8.285664    7.089132    8.365989   \n",
       "min     104.294090  106.839996  110.879997  106.089996  109.720001   \n",
       "25%     109.458031  112.129997  115.930000  110.889999  114.570000   \n",
       "50%     112.611076  115.360001  118.989998  112.680000  117.260002   \n",
       "75%     117.999535  120.879997  123.699997  115.260002  120.360001   \n",
       "max     130.982590  134.179993  137.979996  130.529999  137.589996   \n",
       "\n",
       "Price         Volume  \n",
       "Ticker          AAPL  \n",
       "count   1.300000e+01  \n",
       "mean    2.044848e+08  \n",
       "std     5.707355e+07  \n",
       "min     1.401501e+08  \n",
       "25%     1.769405e+08  \n",
       "50%     1.822744e+08  \n",
       "75%     2.313666e+08  \n",
       "max     3.326072e+08  "
      ]
     },
     "execution_count": 9,
     "metadata": {},
     "output_type": "execute_result"
    }
   ],
   "source": [
    "aapl = yf.download('AAPL', start='2020-09-01', end='2020-09-19', actions=False)  \n",
    "aapl.describe()"
   ]
  },
  {
   "cell_type": "code",
   "execution_count": null,
   "metadata": {},
   "outputs": [],
   "source": []
  },
  {
   "cell_type": "code",
   "execution_count": null,
   "metadata": {},
   "outputs": [],
   "source": []
  },
  {
   "cell_type": "code",
   "execution_count": null,
   "metadata": {},
   "outputs": [],
   "source": []
  },
  {
   "cell_type": "code",
   "execution_count": null,
   "metadata": {},
   "outputs": [],
   "source": []
  },
  {
   "cell_type": "markdown",
   "metadata": {},
   "source": [
    "# Q2"
   ]
  },
  {
   "cell_type": "code",
   "execution_count": null,
   "metadata": {},
   "outputs": [],
   "source": []
  }
 ],
 "metadata": {
  "kernelspec": {
   "display_name": "base",
   "language": "python",
   "name": "python3"
  },
  "language_info": {
   "codemirror_mode": {
    "name": "ipython",
    "version": 3
   },
   "file_extension": ".py",
   "mimetype": "text/x-python",
   "name": "python",
   "nbconvert_exporter": "python",
   "pygments_lexer": "ipython3",
   "version": "3.11.5"
  }
 },
 "nbformat": 4,
 "nbformat_minor": 2
}
