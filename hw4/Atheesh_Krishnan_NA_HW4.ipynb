{
 "cells": [
  {
   "cell_type": "code",
   "execution_count": 1,
   "metadata": {},
   "outputs": [],
   "source": [
    "import numpy as np\n",
    "import pandas as pd\n",
    "import yfinance as yf\n",
    "\n",
    "from hw4_utility import *"
   ]
  },
  {
   "cell_type": "markdown",
   "metadata": {},
   "source": [
    "# Q1"
   ]
  },
  {
   "cell_type": "code",
   "execution_count": 2,
   "metadata": {},
   "outputs": [
    {
     "name": "stdout",
     "output_type": "stream",
     "text": [
      "Matrix 1:\n",
      "Symmetric: False\n",
      "Singular: False\n",
      "Positive Definite: False\n",
      "--------------------\n",
      "Matrix 2:\n",
      "Symmetric: False\n",
      "Singular: True\n",
      "Positive Definite: False\n",
      "--------------------\n"
     ]
    }
   ],
   "source": [
    "m1 = np.array([[4, 0, 0, 0],[6, 7, 0, 0],[9, 11, 1, 0],[5, 4, 1, 1]])\n",
    "m2 = np.array([[2, 3, 1, 2],[-2, 4, -1, 5],[3, 7, 1.5, 1],[6, -9, 3, 7]])\n",
    "\n",
    "for i, matrix in enumerate([m1, m2], start=1):\n",
    "    print(f\"Matrix {i}:\")\n",
    "    print(f\"Symmetric:\", check_symmetric(matrix))\n",
    "    print(f\"Singular:\", check_singular(matrix))\n",
    "    print(f\"Positive Definite:\", check_posdef(matrix))\n",
    "    print(\"--------------------\")"
   ]
  },
  {
   "cell_type": "markdown",
   "metadata": {},
   "source": [
    "# Q2"
   ]
  },
  {
   "cell_type": "markdown",
   "metadata": {},
   "source": [
    "### LU Factorization"
   ]
  },
  {
   "cell_type": "code",
   "execution_count": 3,
   "metadata": {},
   "outputs": [
    {
     "name": "stdout",
     "output_type": "stream",
     "text": [
      "LU factorization conditions satisfied.\n",
      "\n",
      "Matrix A:\n",
      "[[ 4.  1.  1.  1.]\n",
      " [ 1.  3. -1.  1.]\n",
      " [ 1. -1.  2.  0.]\n",
      " [ 1.  1.  0.  2.]]\n",
      "\n",
      "Lower Triangular Matrix L:\n",
      "[[ 1.          0.          0.          0.        ]\n",
      " [ 0.25        1.          0.          0.        ]\n",
      " [ 0.25       -0.45454545  1.          0.        ]\n",
      " [ 0.25        0.27272727  0.07692308  1.        ]]\n",
      "\n",
      "Upper Triangular Matrix U:\n",
      "[[ 4.          1.          1.          1.        ]\n",
      " [ 0.          2.75       -1.25        0.75      ]\n",
      " [ 0.          0.          1.18181818  0.09090909]\n",
      " [ 0.          0.          0.          1.53846154]]\n",
      "\n",
      "(LU):\n",
      "[[ 4.00000000e+00  1.00000000e+00  1.00000000e+00  1.00000000e+00]\n",
      " [ 1.00000000e+00  3.00000000e+00 -1.00000000e+00  1.00000000e+00]\n",
      " [ 1.00000000e+00 -1.00000000e+00  2.00000000e+00 -1.38777878e-17]\n",
      " [ 1.00000000e+00  1.00000000e+00  2.13504428e-18  2.00000000e+00]]\n",
      "\n",
      "LU factorization verified.\n"
     ]
    }
   ],
   "source": [
    "A = np.array([[4, 1, 1, 1],[1, 3, -1, 1],[1, -1, 2, 0],[1, 1, 0, 2]], dtype=float)\n",
    "\n",
    "if lu_conditions(A):\n",
    "    print(\"LU factorization conditions satisfied.\")\n",
    "    L, U = lu_factorization(A)\n",
    "    print(\"\\nMatrix A:\")\n",
    "    print(A)\n",
    "    print(\"\\nLower Triangular Matrix L:\")\n",
    "    print(L)\n",
    "    print(\"\\nUpper Triangular Matrix U:\")\n",
    "    print(U)\n",
    "    print(\"\\n(LU):\")\n",
    "    print(L @ U)\n",
    "    if np.allclose(A, L @ U):\n",
    "        print(\"\\nLU factorization verified.\")\n",
    "    else:\n",
    "        print(\"\\nLU factorization failed.\")\n",
    "else:\n",
    "    print(\"LU factorization not possibl.e\")"
   ]
  },
  {
   "cell_type": "markdown",
   "metadata": {},
   "source": [
    "### LDL^T Factorization"
   ]
  },
  {
   "cell_type": "code",
   "execution_count": 4,
   "metadata": {},
   "outputs": [
    {
     "name": "stdout",
     "output_type": "stream",
     "text": [
      "LDL^T conditions satisfied.\n",
      "\n",
      "Matrix A:\n",
      "[[ 4.  1.  1.  1.]\n",
      " [ 1.  3. -1.  1.]\n",
      " [ 1. -1.  2.  0.]\n",
      " [ 1.  1.  0.  2.]]\n",
      "\n",
      "Lower Triangular Matrix L:\n",
      "[[ 1.          0.          0.          0.        ]\n",
      " [ 0.25        1.          0.          0.        ]\n",
      " [ 0.25       -0.45454545  1.          0.        ]\n",
      " [ 0.25        0.27272727  0.07692308  1.        ]]\n",
      "\n",
      "Diagonal Matrix D:\n",
      "[[4.         0.         0.         0.        ]\n",
      " [0.         2.75       0.         0.        ]\n",
      " [0.         0.         1.18181818 0.        ]\n",
      " [0.         0.         0.         1.53846154]]\n",
      "\n",
      "(LDL^T):\n",
      "[[ 4.00000000e+00  1.00000000e+00  1.00000000e+00  1.00000000e+00]\n",
      " [ 1.00000000e+00  3.00000000e+00 -1.00000000e+00  1.00000000e+00]\n",
      " [ 1.00000000e+00 -1.00000000e+00  2.00000000e+00  2.13504428e-18]\n",
      " [ 1.00000000e+00  1.00000000e+00 -1.38777878e-17  2.00000000e+00]]\n",
      "\n",
      "LDL^T factorization verified.\n"
     ]
    }
   ],
   "source": [
    "A = np.array([[4, 1, 1, 1],[1, 3, -1, 1],[1, -1, 2, 0],[1, 1, 0, 2]], dtype=float)\n",
    "\n",
    "if ldlt_conditions(A):\n",
    "    print(\"LDL^T conditions satisfied.\")\n",
    "    L, D = ldlt_factorization(A)\n",
    "    print(\"\\nMatrix A:\")\n",
    "    print(A)\n",
    "    print(\"\\nLower Triangular Matrix L:\")\n",
    "    print(L)\n",
    "    print(\"\\nDiagonal Matrix D:\")\n",
    "    print(D)\n",
    "    print(\"\\n(LDL^T):\")\n",
    "    print(L @ D @ L.T)\n",
    "    if np.allclose(A, L @ D @ L.T):\n",
    "        print(\"\\nLDL^T factorization verified.\")\n",
    "    else:\n",
    "        print(\"\\nLDL^T factorization failed.\")\n",
    "else:\n",
    "    print(\"LDL^T factorization not possible.\")"
   ]
  },
  {
   "cell_type": "markdown",
   "metadata": {},
   "source": [
    "### Cholesky Decomposition"
   ]
  },
  {
   "cell_type": "code",
   "execution_count": 5,
   "metadata": {},
   "outputs": [
    {
     "name": "stdout",
     "output_type": "stream",
     "text": [
      "Cholesky conditions satisfied.\n",
      "\n",
      "Matrix A:\n",
      "[[ 4.  1.  1.  1.]\n",
      " [ 1.  3. -1.  1.]\n",
      " [ 1. -1.  2.  0.]\n",
      " [ 1.  1.  0.  2.]]\n",
      "\n",
      "Lower Triangular Matrix L:\n",
      "[[ 2.          0.          0.          0.        ]\n",
      " [ 0.5         1.6583124   0.          0.        ]\n",
      " [ 0.5        -0.75377836  1.08711461  0.        ]\n",
      " [ 0.5         0.45226702  0.0836242   1.24034735]]\n",
      "\n",
      "Transpose of Lower Triangular Matrix L.T:\n",
      "[[ 2.          0.5         0.5         0.5       ]\n",
      " [ 0.          1.6583124  -0.75377836  0.45226702]\n",
      " [ 0.          0.          1.08711461  0.0836242 ]\n",
      " [ 0.          0.          0.          1.24034735]]\n",
      "\n",
      "(L @ L.T):\n",
      "[[ 4.00000000e+00  1.00000000e+00  1.00000000e+00  1.00000000e+00]\n",
      " [ 1.00000000e+00  3.00000000e+00 -1.00000000e+00  1.00000000e+00]\n",
      " [ 1.00000000e+00 -1.00000000e+00  2.00000000e+00 -1.76741685e-17]\n",
      " [ 1.00000000e+00  1.00000000e+00 -1.76741685e-17  2.00000000e+00]]\n",
      "\n",
      "Cholesky factorization verified.\n"
     ]
    }
   ],
   "source": [
    "A = np.array([[4, 1, 1, 1],[1, 3, -1, 1],[1, -1, 2, 0],[1, 1, 0, 2]], dtype=float)\n",
    "\n",
    "if cholesky_conditions(A):\n",
    "    print(\"Cholesky conditions satisfied.\")\n",
    "    L = cholesky_factorization(A)\n",
    "    print(\"\\nMatrix A:\")\n",
    "    print(A)\n",
    "    print(\"\\nLower Triangular Matrix L:\")\n",
    "    print(L)\n",
    "    print(\"\\nTranspose of Lower Triangular Matrix L.T:\")\n",
    "    print(L.T)\n",
    "    print(\"\\n(L @ L.T):\")\n",
    "    print(L @ L.T)\n",
    "    if np.allclose(A, L @ L.T):\n",
    "        print(\"\\nCholesky factorization verified.\")\n",
    "    else:\n",
    "        print(\"\\nCholesky factorization failed.\")\n",
    "else:\n",
    "    print(\"Cholesky factorization not possible.\")"
   ]
  },
  {
   "cell_type": "markdown",
   "metadata": {},
   "source": [
    "# Q3"
   ]
  },
  {
   "cell_type": "code",
   "execution_count": 6,
   "metadata": {},
   "outputs": [],
   "source": [
    "A = np.array([[1, 1, 0, 3],[2, 1, -1, 1],[3, -1, -1, 2],[-1, 2, 3, -1]], dtype=float)\n",
    "B = np.array([8, 7, 14, -7], dtype=float)\n",
    "B_systems = [B.copy()]\n",
    "\n",
    "for i in range(len(B)):\n",
    "    B2 = B.copy()\n",
    "    B2[i] *= 1.01\n",
    "    B_systems.append(B2)"
   ]
  },
  {
   "cell_type": "code",
   "execution_count": 7,
   "metadata": {},
   "outputs": [
    {
     "name": "stdout",
     "output_type": "stream",
     "text": [
      "Solutions via LU FACTORIZATION:\n",
      "================\n",
      "SYSTEM 1:\n",
      "RHS Vector B:[ 8.  7. 14. -7.]\n",
      "Solution X:[ 3. -1.  0.  2.]\n",
      "\n",
      "SYSTEM 2:\n",
      "RHS Vector B:[ 8.08  7.   14.   -7.  ]\n",
      "Solution X:[ 2.98153846 -0.99384615  0.          2.03076923]\n",
      "\n",
      "SYSTEM 3:\n",
      "RHS Vector B:[ 8.    7.07 14.   -7.  ]\n",
      "Solution X:[ 3.01435897 -0.96589744 -0.02333333  1.98384615]\n",
      "\n",
      "SYSTEM 4:\n",
      "RHS Vector B:[ 8.    7.   14.14 -7.  ]\n",
      "Solution X:[ 3.04666667 -1.04666667  0.04666667  2.        ]\n",
      "\n",
      "SYSTEM 5:\n",
      "RHS Vector B:[ 8.    7.   14.   -7.07]\n",
      "Solution X:[ 2.9874359  -1.00358974 -0.02333333  2.00538462]\n",
      "\n"
     ]
    }
   ],
   "source": [
    "print(\"Solutions via LU FACTORIZATION:\")\n",
    "print(\"================\")\n",
    "for i, b in enumerate(B_systems, start=1):\n",
    "    try:\n",
    "        X = solve_system(A, b)\n",
    "        print(f\"SYSTEM {i}:\")\n",
    "        print(f\"RHS Vector B:{b}\")\n",
    "        print(f\"Solution X:{X}\\n\")\n",
    "    except ValueError as e:\n",
    "        print(f\"SYSTEM {i}: {e}\\n\")"
   ]
  },
  {
   "cell_type": "code",
   "execution_count": 8,
   "metadata": {},
   "outputs": [
    {
     "name": "stdout",
     "output_type": "stream",
     "text": [
      "Solutions via GAUSSIAN ELIMINATION:\n",
      "======================================\n",
      "SYSTEM 1:\n",
      "RHS Vector B:[ 8.  7. 14. -7.]\n",
      "Solution X:[ 3. -1.  0.  2.]\n",
      "\n",
      "SYSTEM 2:\n",
      "RHS Vector B:[ 8.08  7.   14.   -7.  ]\n",
      "Solution X:[ 2.98153846 -0.99384615  0.          2.03076923]\n",
      "\n",
      "SYSTEM 3:\n",
      "RHS Vector B:[ 8.    7.07 14.   -7.  ]\n",
      "Solution X:[ 3.01435897 -0.96589744 -0.02333333  1.98384615]\n",
      "\n",
      "SYSTEM 4:\n",
      "RHS Vector B:[ 8.    7.   14.14 -7.  ]\n",
      "Solution X:[ 3.04666667 -1.04666667  0.04666667  2.        ]\n",
      "\n",
      "SYSTEM 5:\n",
      "RHS Vector B:[ 8.    7.   14.   -7.07]\n",
      "Solution X:[ 2.9874359  -1.00358974 -0.02333333  2.00538462]\n",
      "\n"
     ]
    }
   ],
   "source": [
    "print(\"Solutions via GAUSSIAN ELIMINATION:\")\n",
    "print(\"======================================\")\n",
    "for i, b in enumerate(B_systems, start=1):\n",
    "    X = gaussian_elimination(A, b)\n",
    "    print(f\"SYSTEM {i}:\")\n",
    "    print(f\"RHS Vector B:{b}\")\n",
    "    print(f\"Solution X:{X}\\n\")"
   ]
  },
  {
   "cell_type": "code",
   "execution_count": 9,
   "metadata": {},
   "outputs": [
    {
     "name": "stdout",
     "output_type": "stream",
     "text": [
      "LU Decomposition Total Operations: 202.67\n",
      "Gaussian Elimination Total Operations: 213.33\n",
      "\n",
      "LU decomposition is more efficient for solving multiple systems with the same matrix A.\n"
     ]
    }
   ],
   "source": [
    "n = A.shape[0]\n",
    "\n",
    "decomposition_ops = (2 / 3) * n**3\n",
    "substitution_ops = 5 * (2 * n**2)\n",
    "lu_ops = decomposition_ops + substitution_ops\n",
    "\n",
    "gaussian_ops = 5 * (2 / 3) * n**3\n",
    "\n",
    "print(f\"LU Decomposition Total Operations: {lu_ops:.2f}\")\n",
    "print(f\"Gaussian Elimination Total Operations: {gaussian_ops:.2f}\\n\")\n",
    "\n",
    "if lu_ops < gaussian_ops:\n",
    "    print(\"LU decomposition is more efficient for solving multiple systems with the same matrix A.\")\n",
    "else:\n",
    "    print(\"Gaussian elimination is more efficient for solving single systems.\")"
   ]
  },
  {
   "cell_type": "markdown",
   "metadata": {},
   "source": [
    "# Q4"
   ]
  },
  {
   "cell_type": "code",
   "execution_count": 10,
   "metadata": {},
   "outputs": [
    {
     "name": "stdout",
     "output_type": "stream",
     "text": [
      "\n",
      "Pair: JPM and BAC\n",
      "\n"
     ]
    },
    {
     "name": "stderr",
     "output_type": "stream",
     "text": [
      "[*********************100%***********************]  1 of 1 completed\n",
      "[*********************100%***********************]  1 of 1 completed"
     ]
    },
    {
     "name": "stdout",
     "output_type": "stream",
     "text": [
      "Covariance Matrix:\n",
      "          JPM       BAC\n",
      "JPM  0.000227  0.000162\n",
      "BAC  0.000162  0.000212\n",
      "\n",
      "Cholesky Decomposition Possible: True\n",
      "\n",
      "Cholesky Factorization (L):\n",
      "[[0.01508031 0.        ]\n",
      " [0.01076698 0.00980001]]\n",
      "\n",
      "Reconstructed Covariance Matrix (L * L^T):\n",
      "[[0.00022742 0.00016237]\n",
      " [0.00016237 0.00021197]]\n",
      "\n",
      "Original Covariance Matrix:\n",
      "          JPM       BAC\n",
      "JPM  0.000227  0.000162\n",
      "BAC  0.000162  0.000212\n",
      "\n",
      "Verification Passed.\n"
     ]
    },
    {
     "name": "stderr",
     "output_type": "stream",
     "text": [
      "\n"
     ]
    }
   ],
   "source": [
    "def get_stock_data(tickers, start_date, end_date):\n",
    "    data = {ticker: yf.download(ticker, start=start_date, end=end_date)['Adj Close'] for ticker in tickers}\n",
    "    df = pd.concat(data, axis=1, join=\"inner\")\n",
    "    df.columns = tickers\n",
    "    df = df.dropna(how=\"any\")\n",
    "    return df\n",
    "\n",
    "def analyze_stock_pair(main_ticker, pair_ticker, start_date, end_date):\n",
    "    tickers = [main_ticker, pair_ticker]\n",
    "    prices = get_stock_data(tickers, start_date, end_date)\n",
    "    returns = prices.pct_change().dropna()\n",
    "    cov_matrix = returns.cov()\n",
    "    \n",
    "    if cholesky_conditions(cov_matrix):\n",
    "        L = cholesky_factorization(cov_matrix.to_numpy())\n",
    "        return cov_matrix, True, L\n",
    "    else:\n",
    "        return cov_matrix, False, None\n",
    "\n",
    "start_date = \"2024-01-02\"\n",
    "end_date = \"2024-11-29\"\n",
    "\n",
    "main_ticker = \"JPM\"\n",
    "pair_tickers = [\"BAC\", \"XOM\", \"AAPL\", \"CVX\"]\n",
    "\n",
    "for pair_ticker in pair_tickers:\n",
    "    print(f\"\\nPair: {main_ticker} and {pair_ticker}\\n\")\n",
    "    cov_matrix, cholesky_possible, L = analyze_stock_pair(main_ticker, pair_ticker, start_date, end_date)\n",
    "    print(f\"Covariance Matrix:\\n{cov_matrix}\\n\")\n",
    "    print(f\"Cholesky Decomposition Possible: {cholesky_possible}\\n\")\n",
    "    \n",
    "    if L is not None:\n",
    "        print(f\"Cholesky Factorization (L):\\n{L}\")\n",
    "        print(f\"\\nReconstructed Covariance Matrix (L * L^T):\\n{L @ L.T}\")\n",
    "        print(f\"\\nOriginal Covariance Matrix:\\n{cov_matrix}\")\n",
    "        if np.allclose(cov_matrix.to_numpy(), L @ L.T):\n",
    "            print(\"\\nVerification Passed.\")\n",
    "        else:\n",
    "            print(\"\\nVerification Failed.\")\n",
    "        break"
   ]
  },
  {
   "cell_type": "markdown",
   "metadata": {},
   "source": [
    "# Q5"
   ]
  },
  {
   "cell_type": "code",
   "execution_count": 11,
   "metadata": {},
   "outputs": [
    {
     "name": "stdout",
     "output_type": "stream",
     "text": [
      "Original Matrix A:\n",
      "[[-4.  6.]\n",
      " [ 3.  8.]]\n",
      "\n",
      "U (Left Singular Vectors):\n",
      "[[ 0.6 -0.8]\n",
      " [ 0.8  0.6]]\n",
      "\n",
      "S (Singular Values):\n",
      "[[10.  0.]\n",
      " [ 0.  5.]]\n",
      "\n",
      "Vt (Right Singular Vectors - Transposed):\n",
      "[[0. 1.]\n",
      " [1. 0.]]\n",
      "\n",
      "(U * S * Vt):\n",
      "[[-4.  6.]\n",
      " [ 3.  8.]]\n",
      "\n",
      "Verification Passed.\n"
     ]
    }
   ],
   "source": [
    "A = np.array([[-4, 6],[3, 8]], dtype=float)\n",
    "U, S, Vt = svd(A)\n",
    "\n",
    "print(\"Original Matrix A:\")\n",
    "print(A)\n",
    "print(\"\\nU (Left Singular Vectors):\")\n",
    "print(U)\n",
    "print(\"\\nS (Singular Values):\")\n",
    "print(S)\n",
    "print(\"\\nVt (Right Singular Vectors - Transposed):\")\n",
    "print(Vt)\n",
    "\n",
    "print(\"\\n(U * S * Vt):\")\n",
    "print(U @ S @ Vt)\n",
    "\n",
    "if np.allclose(A, U @ S @ Vt):\n",
    "    print(\"\\nVerification Passed.\")\n",
    "else:\n",
    "    print(\"\\nVerification Failed.\")"
   ]
  },
  {
   "cell_type": "markdown",
   "metadata": {},
   "source": [
    "# Q6"
   ]
  },
  {
   "cell_type": "code",
   "execution_count": 12,
   "metadata": {},
   "outputs": [
    {
     "name": "stdout",
     "output_type": "stream",
     "text": [
      "Original Matrix A:\n",
      "[[ 1 -1]\n",
      " [ 0  1]\n",
      " [-1  0]]\n",
      "\n",
      "Eigenvalues:\n",
      "[1.         0.33333333]\n",
      "\n",
      "Eigenvectors:\n",
      "[[ 0.70710678  0.70710678]\n",
      " [-0.70710678  0.70710678]]\n",
      "\n",
      "PCA Extraction:\n",
      "[[ 1.41421356  0.        ]\n",
      " [-0.70710678  0.70710678]\n",
      " [-0.70710678 -0.70710678]]\n"
     ]
    }
   ],
   "source": [
    "A = np.array([[1, -1],[0,  1],[-1, 0]])\n",
    "\n",
    "eigenvalues, eigenvectors, transformed_data = pca(A)\n",
    "\n",
    "print(\"Original Matrix A:\")\n",
    "print(A)\n",
    "print(\"\\nEigenvalues:\")\n",
    "print(eigenvalues)\n",
    "print(\"\\nEigenvectors:\")\n",
    "print(eigenvectors)\n",
    "print(\"\\nPCA Extraction:\")\n",
    "print(transformed_data)"
   ]
  }
 ],
 "metadata": {
  "kernelspec": {
   "display_name": "base",
   "language": "python",
   "name": "python3"
  },
  "language_info": {
   "codemirror_mode": {
    "name": "ipython",
    "version": 3
   },
   "file_extension": ".py",
   "mimetype": "text/x-python",
   "name": "python",
   "nbconvert_exporter": "python",
   "pygments_lexer": "ipython3",
   "version": "3.11.5"
  }
 },
 "nbformat": 4,
 "nbformat_minor": 2
}
