{
 "cells": [
  {
   "cell_type": "code",
   "execution_count": 4,
   "metadata": {},
   "outputs": [],
   "source": [
    "import numpy as np\n",
    "from hw4_utility import *"
   ]
  },
  {
   "cell_type": "code",
   "execution_count": 5,
   "metadata": {},
   "outputs": [
    {
     "name": "stdout",
     "output_type": "stream",
     "text": [
      "Matrix 1:\n",
      "  Symmetric: False\n",
      "  Singular: False\n",
      "  Positive Definite: True\n",
      "\n",
      "Matrix 2:\n",
      "  Symmetric: False\n",
      "  Singular: True\n",
      "  Positive Definite: True\n",
      "\n"
     ]
    }
   ],
   "source": [
    "def check_matrix_properties(matrix):\n",
    "    # Symmetry check\n",
    "    is_symmetric = np.array_equal(matrix, matrix.T)\n",
    "    \n",
    "    # Singularity check\n",
    "    determinant = np.linalg.det(matrix)\n",
    "    is_singular = np.isclose(determinant, 0)\n",
    "    \n",
    "    # Positive definite check\n",
    "    try:\n",
    "        # A matrix is positive definite if all its eigenvalues are positive\n",
    "        eigenvalues = np.linalg.eigvals(matrix)\n",
    "        is_positive_definite = np.all(eigenvalues > 0)\n",
    "    except np.linalg.LinAlgError:\n",
    "        # If eigenvalue computation fails, it is not positive definite\n",
    "        is_positive_definite = False\n",
    "    \n",
    "    return is_symmetric, is_singular, is_positive_definite\n",
    "\n",
    "# Define the matrices\n",
    "matrix_i = np.array([[4, 0, 0, 0],\n",
    "                     [6, 7, 0, 0],\n",
    "                     [9, 11, 1, 0],\n",
    "                     [5, 4, 1, 1]])\n",
    "\n",
    "matrix_ii = np.array([[2, 3, 1, 2],\n",
    "                      [-2, 4, -1, 5],\n",
    "                      [3, 7, 1.5, 1],\n",
    "                      [6, -9, 3, 7]])\n",
    "\n",
    "# Check properties for both matrices\n",
    "for i, matrix in enumerate([matrix_i, matrix_ii], start=1):\n",
    "    symmetric, singular, positive_definite = check_matrix_properties(matrix)\n",
    "    print(f\"Matrix {i}:\")\n",
    "    print(f\"  Symmetric: {symmetric}\")\n",
    "    print(f\"  Singular: {singular}\")\n",
    "    print(f\"  Positive Definite: {positive_definite}\\n\")"
   ]
  },
  {
   "cell_type": "code",
   "execution_count": null,
   "metadata": {},
   "outputs": [],
   "source": []
  }
 ],
 "metadata": {
  "kernelspec": {
   "display_name": "base",
   "language": "python",
   "name": "python3"
  },
  "language_info": {
   "codemirror_mode": {
    "name": "ipython",
    "version": 3
   },
   "file_extension": ".py",
   "mimetype": "text/x-python",
   "name": "python",
   "nbconvert_exporter": "python",
   "pygments_lexer": "ipython3",
   "version": "3.11.5"
  }
 },
 "nbformat": 4,
 "nbformat_minor": 2
}
