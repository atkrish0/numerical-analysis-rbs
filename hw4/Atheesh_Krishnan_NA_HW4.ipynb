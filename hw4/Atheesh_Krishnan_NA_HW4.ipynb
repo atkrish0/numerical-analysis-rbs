{
 "cells": [
  {
   "cell_type": "code",
   "execution_count": 1,
   "metadata": {},
   "outputs": [],
   "source": [
    "import numpy as np\n",
    "from hw4_utility import *"
   ]
  },
  {
   "cell_type": "markdown",
   "metadata": {},
   "source": [
    "# Q1"
   ]
  },
  {
   "cell_type": "code",
   "execution_count": 2,
   "metadata": {},
   "outputs": [
    {
     "name": "stdout",
     "output_type": "stream",
     "text": [
      "Matrix 1:\n",
      "Symmetric: False\n",
      "Singular: False\n",
      "Positive Definite: True\n",
      "\n",
      "Matrix 2:\n",
      "Symmetric: False\n",
      "Singular: True\n",
      "Positive Definite: True\n",
      "\n"
     ]
    }
   ],
   "source": [
    "m1 = np.array([[4, 0, 0, 0],[6, 7, 0, 0],[9, 11, 1, 0],[5, 4, 1, 1]])\n",
    "m2 = np.array([[2, 3, 1, 2],[-2, 4, -1, 5],[3, 7, 1.5, 1],[6, -9, 3, 7]])\n",
    "\n",
    "for i, matrix in enumerate([m1, m2], start=1):\n",
    "    symmetric, singular, positive_definite = check_matrix(matrix)\n",
    "    print(f\"Matrix {i}:\")\n",
    "    print(f\"Symmetric: {symmetric}\")\n",
    "    print(f\"Singular: {singular}\")\n",
    "    print(f\"Positive Definite: {positive_definite}\\n\")"
   ]
  },
  {
   "cell_type": "code",
   "execution_count": 3,
   "metadata": {},
   "outputs": [
    {
     "name": "stdout",
     "output_type": "stream",
     "text": [
      "Matrix 1:\n",
      "Symmetric: False\n",
      "Singular: False\n",
      "Positive Definite: True\n",
      "\n",
      "Matrix 2:\n",
      "Symmetric: False\n",
      "Singular: False\n",
      "Positive Definite: True\n",
      "\n"
     ]
    }
   ],
   "source": [
    "m1 = np.array([[4, 0, 0, 0],[6, 7, 0, 0],[9, 11, 1, 0],[5, 4, 1, 1]])\n",
    "m2 = np.array([[2, 3, 1, 2],[-2, 4, -1, 5],[3, 7, 1.5, 1],[6, -9, 3, 7]])\n",
    "\n",
    "for i, matrix in enumerate([m1, m2], start=1):\n",
    "    symmetric, singular, positive_definite = check_matrix2(matrix)\n",
    "    print(f\"Matrix {i}:\")\n",
    "    print(f\"Symmetric: {symmetric}\")\n",
    "    print(f\"Singular: {singular}\")\n",
    "    print(f\"Positive Definite: {positive_definite}\\n\")"
   ]
  },
  {
   "cell_type": "markdown",
   "metadata": {},
   "source": [
    "# Q2"
   ]
  },
  {
   "cell_type": "code",
   "execution_count": 4,
   "metadata": {},
   "outputs": [
    {
     "name": "stdout",
     "output_type": "stream",
     "text": [
      "Matrix A:\n",
      "[[ 4.  1.  1.  1.]\n",
      " [ 1.  3. -1.  1.]\n",
      " [ 1. -1.  2.  0.]\n",
      " [ 1.  1.  0.  2.]]\n",
      "\n",
      "Lower Triangular Matrix L:\n",
      "[[ 1.          0.          0.          0.        ]\n",
      " [ 0.25        1.          0.          0.        ]\n",
      " [ 0.25       -0.45454545  1.          0.        ]\n",
      " [ 0.25        0.27272727  0.07692308  1.        ]]\n",
      "\n",
      "Upper Triangular Matrix U:\n",
      "[[ 4.          1.          1.          1.        ]\n",
      " [ 0.          2.75       -1.25        0.75      ]\n",
      " [ 0.          0.          1.18181818  0.09090909]\n",
      " [ 0.          0.          0.          1.53846154]]\n",
      "\n",
      "Reconstructed Matrix A (L @ U):\n",
      "[[ 4.00000000e+00  1.00000000e+00  1.00000000e+00  1.00000000e+00]\n",
      " [ 1.00000000e+00  3.00000000e+00 -1.00000000e+00  1.00000000e+00]\n",
      " [ 1.00000000e+00 -1.00000000e+00  2.00000000e+00 -1.38777878e-17]\n",
      " [ 1.00000000e+00  1.00000000e+00  2.13504428e-18  2.00000000e+00]]\n",
      "\n",
      "LU decomposition verified successfully!\n"
     ]
    }
   ],
   "source": [
    "A = np.array([[4, 1, 1, 1],\n",
    "              [1, 3, -1, 1],\n",
    "              [1, -1, 2, 0],\n",
    "              [1, 1, 0, 2]], dtype=float)\n",
    "\n",
    "# Perform LU decomposition\n",
    "L, U = lu_factorization(A)\n",
    "\n",
    "print(\"Matrix A:\")\n",
    "print(A)\n",
    "print(\"\\nLower Triangular Matrix L:\")\n",
    "print(L)\n",
    "print(\"\\nUpper Triangular Matrix U:\")\n",
    "print(U)\n",
    "\n",
    "# Verify LU decomposition\n",
    "reconstructed_A = L @ U\n",
    "print(\"\\nReconstructed Matrix A (L @ U):\")\n",
    "print(reconstructed_A)\n",
    "\n",
    "# Check if reconstruction matches the original matrix\n",
    "if np.allclose(A, reconstructed_A):\n",
    "    print(\"\\nLU decomposition verified successfully!\")\n",
    "else:\n",
    "    print(\"\\nLU decomposition failed.\")"
   ]
  },
  {
   "cell_type": "code",
   "execution_count": null,
   "metadata": {},
   "outputs": [
    {
     "name": "stdout",
     "output_type": "stream",
     "text": [
      "Matrix A:\n",
      "[[ 4.  1.  1.  1.]\n",
      " [ 1.  3. -1.  1.]\n",
      " [ 1. -1.  2.  0.]\n",
      " [ 1.  1.  0.  2.]]\n",
      "\n",
      "Lower Triangular Matrix L:\n",
      "[[ 1.          0.          0.          0.        ]\n",
      " [ 0.25        1.          0.          0.        ]\n",
      " [ 0.25       -0.45454545  1.          0.        ]\n",
      " [ 0.25        0.27272727  0.07692308  1.        ]]\n",
      "\n",
      "Diagonal Matrix D:\n",
      "[[4.         0.         0.         0.        ]\n",
      " [0.         2.75       0.         0.        ]\n",
      " [0.         0.         1.18181818 0.        ]\n",
      " [0.         0.         0.         1.53846154]]\n",
      "\n",
      "Reconstructed Matrix A (L @ D @ L.T):\n",
      "[[ 4.00000000e+00  1.00000000e+00  1.00000000e+00  1.00000000e+00]\n",
      " [ 1.00000000e+00  3.00000000e+00 -1.00000000e+00  1.00000000e+00]\n",
      " [ 1.00000000e+00 -1.00000000e+00  2.00000000e+00  2.13504428e-18]\n",
      " [ 1.00000000e+00  1.00000000e+00 -1.38777878e-17  2.00000000e+00]]\n",
      "\n",
      "LDLᵀ factorization verified successfully!\n"
     ]
    }
   ],
   "source": [
    "A = np.array([[4, 1, 1, 1],\n",
    "              [1, 3, -1, 1],\n",
    "              [1, -1, 2, 0],\n",
    "              [1, 1, 0, 2]], dtype=float)\n",
    "\n",
    "try:\n",
    "    L, D = ldlt_factorization(A)\n",
    "    print(\"Matrix A:\")\n",
    "    print(A)\n",
    "    print(\"\\nLower Triangular Matrix L:\")\n",
    "    print(L)\n",
    "    print(\"\\nDiagonal Matrix D:\")\n",
    "    print(D)\n",
    "    \n",
    "    # Verify LDLᵀ decomposition\n",
    "    reconstructed_A = L @ D @ L.T\n",
    "    print(\"\\nReconstructed Matrix A (L @ D @ L.T):\")\n",
    "    print(reconstructed_A)\n",
    "    \n",
    "    if np.allclose(A, reconstructed_A):\n",
    "        print(\"\\nLDL^T factorization verified successfully!\")\n",
    "    else:\n",
    "        print(\"\\nLDL^T factorization failed.\")\n",
    "except ValueError as e:\n",
    "    print(e)"
   ]
  },
  {
   "cell_type": "code",
   "execution_count": 6,
   "metadata": {},
   "outputs": [
    {
     "name": "stdout",
     "output_type": "stream",
     "text": [
      "Matrix A:\n",
      "[[  4.  12. -16.]\n",
      " [ 12.  37. -43.]\n",
      " [-16. -43.  98.]]\n",
      "\n",
      "Lower Triangular Matrix L:\n",
      "[[ 2.  0.  0.]\n",
      " [ 6.  1.  0.]\n",
      " [-8.  5.  3.]]\n",
      "\n",
      "Reconstructed Matrix A (L @ L.T):\n",
      "[[  4.  12. -16.]\n",
      " [ 12.  37. -43.]\n",
      " [-16. -43.  98.]]\n",
      "\n",
      "Cholesky decomposition verified successfully!\n"
     ]
    }
   ],
   "source": [
    "def cholesky_decomposition(A):\n",
    "    n = A.shape[0]\n",
    "    L = np.zeros_like(A)\n",
    "\n",
    "    for i in range(n):\n",
    "        # Compute diagonal element L[i, i]\n",
    "        L[i, i] = np.sqrt(A[i, i] - sum(L[i, k] ** 2 for k in range(i)))\n",
    "        \n",
    "        # Compute off-diagonal elements L[j, i] for j > i\n",
    "        for j in range(i + 1, n):\n",
    "            L[j, i] = (A[j, i] - sum(L[j, k] * L[i, k] for k in range(i))) / L[i, i]\n",
    "\n",
    "    return L\n",
    "\n",
    "# Define the matrix\n",
    "A = np.array([[4, 12, -16],\n",
    "              [12, 37, -43],\n",
    "              [-16, -43, 98]], dtype=float)\n",
    "\n",
    "# Perform Cholesky decomposition\n",
    "try:\n",
    "    L = cholesky_decomposition(A)\n",
    "    print(\"Matrix A:\")\n",
    "    print(A)\n",
    "    print(\"\\nLower Triangular Matrix L:\")\n",
    "    print(L)\n",
    "    print(\"\\nReconstructed Matrix A (L @ L.T):\")\n",
    "    print(L @ L.T)\n",
    "\n",
    "    if np.allclose(A, L @ L.T):\n",
    "        print(\"\\nCholesky decomposition verified successfully!\")\n",
    "    else:\n",
    "        print(\"\\nCholesky decomposition failed.\")\n",
    "except ValueError as e:\n",
    "    print(e)"
   ]
  },
  {
   "cell_type": "markdown",
   "metadata": {},
   "source": [
    "# Q3"
   ]
  },
  {
   "cell_type": "code",
   "execution_count": null,
   "metadata": {},
   "outputs": [],
   "source": []
  },
  {
   "cell_type": "markdown",
   "metadata": {},
   "source": [
    "# Q4"
   ]
  },
  {
   "cell_type": "code",
   "execution_count": null,
   "metadata": {},
   "outputs": [],
   "source": []
  },
  {
   "cell_type": "markdown",
   "metadata": {},
   "source": [
    "# Q5"
   ]
  },
  {
   "cell_type": "code",
   "execution_count": null,
   "metadata": {},
   "outputs": [],
   "source": []
  },
  {
   "cell_type": "markdown",
   "metadata": {},
   "source": [
    "# Q6"
   ]
  },
  {
   "cell_type": "code",
   "execution_count": null,
   "metadata": {},
   "outputs": [],
   "source": []
  }
 ],
 "metadata": {
  "kernelspec": {
   "display_name": "base",
   "language": "python",
   "name": "python3"
  },
  "language_info": {
   "codemirror_mode": {
    "name": "ipython",
    "version": 3
   },
   "file_extension": ".py",
   "mimetype": "text/x-python",
   "name": "python",
   "nbconvert_exporter": "python",
   "pygments_lexer": "ipython3",
   "version": "3.11.5"
  }
 },
 "nbformat": 4,
 "nbformat_minor": 2
}
